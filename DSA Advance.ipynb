{
 "cells": [
  {
   "cell_type": "code",
   "execution_count": 1,
   "id": "383deac9-d3f1-44d2-882a-4be588dbadc1",
   "metadata": {},
   "outputs": [
    {
     "name": "stdout",
     "output_type": "stream",
     "text": [
      "yajA\n"
     ]
    }
   ],
   "source": [
    "#1. Write a code to reverse a string.\n",
    "\n",
    "x = \"Ajay\"\n",
    "\n",
    "print(x[ : :-1])"
   ]
  },
  {
   "cell_type": "code",
   "execution_count": 2,
   "id": "49e8b43b-f4a5-4ed4-9235-c782e8af23b0",
   "metadata": {},
   "outputs": [
    {
     "name": "stdout",
     "output_type": "stream",
     "text": [
      "4\n"
     ]
    }
   ],
   "source": [
    "#2. Write a code to count the number of vowels in a string.\n",
    "\n",
    "s = \"Hello Worldo\"\n",
    "\n",
    "vowels= [\"a\",\"e\",\"i\",\"o\",\"u\",\"A\",\"E\",\"I\",\"O\",\"U\"]\n",
    "\n",
    "y = (s.count(vowels) for vowels in vowels)\n",
    "\n",
    "print(sum(y))"
   ]
  },
  {
   "cell_type": "code",
   "execution_count": 3,
   "id": "eca33417-09f0-4d37-9e97-aebd8bf800f6",
   "metadata": {},
   "outputs": [
    {
     "name": "stdout",
     "output_type": "stream",
     "text": [
      "True\n"
     ]
    }
   ],
   "source": [
    "#3. Write a code to check if a given string is a palindrome or not.\n",
    "\n",
    "a = \"mam\"\n",
    "\n",
    "p = a == (a[::-1])\n",
    "\n",
    "print(p)"
   ]
  },
  {
   "cell_type": "code",
   "execution_count": 4,
   "id": "585feed8-2379-494e-a871-559f01dbdcb5",
   "metadata": {},
   "outputs": [
    {
     "name": "stdout",
     "output_type": "stream",
     "text": [
      "False\n"
     ]
    }
   ],
   "source": [
    "#4. Write a code to check if two given strings are anagrams of each other.\n",
    "\n",
    "s=\"bad\"\n",
    "\n",
    "a=\"dad\"\n",
    "\n",
    "x = sorted(s)==sorted(a)\n",
    "\n",
    "print(x)"
   ]
  },
  {
   "cell_type": "code",
   "execution_count": 5,
   "id": "9a49c54f-59d6-4cc0-af0b-5df1e4f71143",
   "metadata": {},
   "outputs": [
    {
     "name": "stdout",
     "output_type": "stream",
     "text": [
      "Substring found at positions: [0, 26, 49]\n"
     ]
    }
   ],
   "source": [
    "#5. Write a code to find all occurrences of a given substring within another string. \n",
    "\n",
    "stri = \"Faith can move mountains. Faith can heal wounds. Faith can bring miracles. \"\n",
    "\n",
    "sub = \"Faith\"\n",
    "\n",
    "stri.count(sub)\n",
    "\n",
    "positions = [ i for i in range(len(stri)) if stri.startswith(sub, i)]\n",
    "\n",
    "print(\"Substring found at positions:\", positions)"
   ]
  },
  {
   "cell_type": "code",
   "execution_count": 6,
   "id": "1cc64a55-75b9-46af-8075-3bb277a9cc1a",
   "metadata": {},
   "outputs": [
    {
     "name": "stdout",
     "output_type": "stream",
     "text": [
      "a7b9c7s5a6\n"
     ]
    }
   ],
   "source": [
    "#6. Write a code to perform basic string compression using the counts of repeated character.\n",
    "\n",
    "a = \"aaaaaaabbbbbbbbbcccccccsssssaaaaaa\"\n",
    "\n",
    "c = \"\"\n",
    "\n",
    "count = 0\n",
    "\n",
    "\n",
    "for i in range(0 , len(a)):\n",
    "\n",
    "    if a[i] == a[i-1] :\n",
    "    \n",
    "        count+=1\n",
    "    \n",
    "    else:\n",
    "        c+= a[i-1] + str(count)\n",
    "    \n",
    "        count = 1\n",
    "\n",
    "c+= a[i] + str(count)\n",
    "\n",
    "print(c)\n",
    "           "
   ]
  },
  {
   "cell_type": "code",
   "execution_count": 7,
   "id": "5cdd57a4-20cb-4c8e-bbf6-f559f972bbb0",
   "metadata": {},
   "outputs": [
    {
     "name": "stdout",
     "output_type": "stream",
     "text": [
      "The string does not have all unique characters.\n"
     ]
    }
   ],
   "source": [
    "#7.  Write a code to determine if a string has all unique characters.\n",
    "\n",
    "s = \" abcdd\"\n",
    "\n",
    "u = len(s) == len(set(s))\n",
    "\n",
    "if u:\n",
    "\n",
    "    print(\"The string has all unique characters.\")\n",
    "\n",
    "else:\n",
    "\n",
    "    print(\"The string does not have all unique characters.\")"
   ]
  },
  {
   "cell_type": "code",
   "execution_count": 8,
   "id": "501a8274-ff00-4a55-a10e-3dc9de5a882d",
   "metadata": {},
   "outputs": [
    {
     "name": "stdout",
     "output_type": "stream",
     "text": [
      "HELLO WORLD\n",
      "hello world\n"
     ]
    }
   ],
   "source": [
    "#8. Write a code to convert a given string to uppercase or lowercase\n",
    "\n",
    "s = \"HeLLo woRlD\"\n",
    "\n",
    "print(s.upper())\n",
    "\n",
    "print(s.lower())"
   ]
  },
  {
   "cell_type": "code",
   "execution_count": 9,
   "id": "e4be32e4-6dbe-4673-807e-1ad9a952e9f7",
   "metadata": {},
   "outputs": [
    {
     "name": "stdout",
     "output_type": "stream",
     "text": [
      "Number of words in the string: 3\n"
     ]
    }
   ],
   "source": [
    "#9. Write a code to count the number of words in a string.\n",
    "\n",
    "x = \"God is everywhere\"\n",
    "\n",
    "w = 0 \n",
    "\n",
    "for i in range(len(x)):\n",
    "    \n",
    "    if x[i] == \" \" and x[i + 1 ] != \" \":\n",
    "    \n",
    "        w+=1\n",
    "\n",
    "if len(x)>0:\n",
    "\n",
    "    w+=1\n",
    "\n",
    "    print(\"Number of words in the string:\", w)    "
   ]
  },
  {
   "cell_type": "code",
   "execution_count": 10,
   "id": "3d0a5afc-0e20-4bec-8c72-9dc255f41c41",
   "metadata": {},
   "outputs": [
    {
     "name": "stdout",
     "output_type": "stream",
     "text": [
      "Sonalika Gupta\n"
     ]
    }
   ],
   "source": [
    "#10. Write a code to concatenate two strings without using the + operator.\n",
    "s1 = \"Sonalika\"\n",
    "\n",
    "s2 = \"Gupta\"\n",
    "\n",
    "print(' '.join([s1 , s2]))\n",
    "\n",
    "#f\" {s1}{s2} \"\n",
    "\n",
    "#print(\"%s %s\" % (s1 , s2))\n",
    "\n",
    "#print(\"{} {}\" .format (s1,s2))\n",
    "\n",
    "#print(s1,s2)\n"
   ]
  },
  {
   "cell_type": "code",
   "execution_count": 11,
   "id": "b702daf7-8c33-4a79-bb51-2dc268538d83",
   "metadata": {},
   "outputs": [
    {
     "name": "stdout",
     "output_type": "stream",
     "text": [
      "The list is :  [2, 3, 4, 5, 2]\n"
     ]
    }
   ],
   "source": [
    "#11. Write a code to remove all occurrences of a specific element from a list.\n",
    "\n",
    "list = [1,1,2,3,4,1,5,2,1,1]\n",
    "\n",
    "ele = 1\n",
    "\n",
    "x=[i for i in list if i != ele ]\n",
    "\n",
    "print(\"The list is : \" ,x)\n",
    "\n",
    "#for i in list:\n",
    "\n",
    "#    list.remove(ele)\n",
    "\n",
    "#print(\"The list is : \" ,list)"
   ]
  },
  {
   "cell_type": "code",
   "execution_count": 12,
   "id": "d7e8a9b8-ca7d-4ae1-ab5c-94a261bd065a",
   "metadata": {},
   "outputs": [
    {
     "name": "stdout",
     "output_type": "stream",
     "text": [
      "45\n"
     ]
    }
   ],
   "source": [
    "#12.  Implement a code to find the second largest number in a given list of integer.\n",
    "\n",
    "list = [25,100,32,45]\n",
    "\n",
    "#x = sorted(list)[-2]\n",
    "\n",
    "#print(x)\n",
    "\n",
    "list.remove(max(list))\n",
    "\n",
    "print(max(list))"
   ]
  },
  {
   "cell_type": "code",
   "execution_count": 13,
   "id": "23235750-ed20-4e89-b738-6703e4a24b7e",
   "metadata": {},
   "outputs": [
    {
     "name": "stdout",
     "output_type": "stream",
     "text": [
      "{1: 2, 2: 2, 3: 2}\n"
     ]
    }
   ],
   "source": [
    "#13. Create a code to count the occurrences of each element in a list and return a dictionary with elements as keys and their counts as values\n",
    "\n",
    "list = [1,2,3,1,2,3]\n",
    "\n",
    "count = {}\n",
    "\n",
    "for i in list:\n",
    "\n",
    "    count[i] = count.get(i, 0) + 1\n",
    "\n",
    "print(count)"
   ]
  },
  {
   "cell_type": "code",
   "execution_count": 14,
   "id": "620e370d-57a2-4b62-9a0b-1edd27d36073",
   "metadata": {},
   "outputs": [
    {
     "name": "stdout",
     "output_type": "stream",
     "text": [
      "[2, 5, 4, 3, 6, 2]\n"
     ]
    }
   ],
   "source": [
    "#14. Write a code to reverse a list in-place without using in built-in reverse function.\n",
    "list1 = [2,6,3,4,5,2,]\n",
    "\n",
    "#list1[::-1]\n",
    "\n",
    "s =0 \n",
    "e = len(list1)-1\n",
    "\n",
    "while s < e:\n",
    "    list1[s] , list1[e] = list1[e] , list1[s]\n",
    "    s+=1\n",
    "    e-=1\n",
    "print(list1)\n",
    "\n"
   ]
  },
  {
   "cell_type": "code",
   "execution_count": 15,
   "id": "c913e2b1-ceab-424a-95a3-4b89e43f4c57",
   "metadata": {},
   "outputs": [
    {
     "name": "stdout",
     "output_type": "stream",
     "text": [
      "[1, 2, 3, 6, 15, 4, 5]\n"
     ]
    }
   ],
   "source": [
    "#15 Implement a code to find and remove duplicates from a list while preserving the original order of elements\n",
    "l = [1,2,3,1,3,6,1,2,15,4,5,15,5]\n",
    "\n",
    "u = []\n",
    "\n",
    "for i in l:\n",
    "    \n",
    "    if i in u:\n",
    "        continue\n",
    "    \n",
    "    else:\n",
    "        u.append(i)\n",
    "        \n",
    "\n",
    "print(u)"
   ]
  },
  {
   "cell_type": "code",
   "execution_count": 16,
   "id": "683e6e32-67cf-4c11-8a3c-be432251fcfa",
   "metadata": {},
   "outputs": [
    {
     "name": "stdout",
     "output_type": "stream",
     "text": [
      "not sorted\n"
     ]
    }
   ],
   "source": [
    "#16 Create a code to check if a given list is sorted (either in ascending or descending order) or not.\n",
    "\n",
    "l = [5,4,3,6,1]\n",
    "\n",
    "x = sorted(l)\n",
    "\n",
    "y = sorted(l,reverse = True)\n",
    "\n",
    "if l == x or l == y:\n",
    "    print(\"sorted\")\n",
    "else:\n",
    "    print(\"not sorted\")\n"
   ]
  },
  {
   "cell_type": "code",
   "execution_count": 17,
   "id": "4331008f-c935-41c5-9924-d4f071d3092a",
   "metadata": {},
   "outputs": [
    {
     "name": "stdout",
     "output_type": "stream",
     "text": [
      "[1, 2, 2, 3, 4, 4, 5, 6, 44, 48, 50, 58]\n"
     ]
    }
   ],
   "source": [
    "#17 Write a code to merge two sorted lists into a single sorted list.\n",
    "x = [50,2,3,5,48,4,4]\n",
    "\n",
    "y = [1,2,44,6,58]\n",
    "s = sorted(x+y)\n",
    "print(s)\n",
    "     \n"
   ]
  },
  {
   "cell_type": "code",
   "execution_count": 1,
   "id": "5e04e7ce-0245-4e88-8848-552d3c75479c",
   "metadata": {},
   "outputs": [
    {
     "name": "stdout",
     "output_type": "stream",
     "text": [
      "[25, 15]\n",
      "[25, 15]\n"
     ]
    }
   ],
   "source": [
    "#18 Implement a code to find the intersection of two given list.\n",
    "\n",
    "l1 = [25,29,15,5,7]\n",
    "l2 = [22,15,12,25,18]\n",
    "\n",
    "\n",
    "x = list(set(l1) & set (l2))\n",
    "print(x)\n",
    "\n",
    "z = [i for i in l1 if i in l2]\n",
    "print(z)"
   ]
  },
  {
   "cell_type": "code",
   "execution_count": 2,
   "id": "d7d2d940-4d5f-423f-85bf-f428e44239b3",
   "metadata": {},
   "outputs": [
    {
     "name": "stdout",
     "output_type": "stream",
     "text": [
      "[1, 2, 3, 4, 5, 6, 7, 8, 9]\n",
      "[1, 2, 3, 4, 5, 6, 7, 8, 9]\n"
     ]
    }
   ],
   "source": [
    "#19 Create a code to find the union of two lists without duplicates.\n",
    "\n",
    "a = [1,2,3,4,5,6]\n",
    "b = [5,6,7,8,9,1]\n",
    "\n",
    "x = list(set(a) | set(b)) \n",
    "print(x)\n",
    "\n",
    "set1 = set(a)\n",
    "set2 = set(b)\n",
    "ans = list(set1.union(set2))\n",
    "print(ans)"
   ]
  },
  {
   "cell_type": "code",
   "execution_count": 3,
   "id": "0e094074-413d-4152-a475-48796cbda5f4",
   "metadata": {},
   "outputs": [
    {
     "name": "stdout",
     "output_type": "stream",
     "text": [
      "[3, 4, 1, 2, 5]\n"
     ]
    }
   ],
   "source": [
    "#20 Write a code to shuffle a given list randomly without using any built-in shuffle function.\n",
    "\n",
    "l = [1,2,3,4,5]\n",
    "\n",
    "for i in range (len(l)):\n",
    "    s = (i*2+1) % len(l)\n",
    "    l[i] ,l[s] = l[s] , l[i]\n",
    "print(l)"
   ]
  },
  {
   "cell_type": "code",
   "execution_count": 4,
   "id": "ea6b9dbf-9ccb-4493-9bc2-92554d53745c",
   "metadata": {},
   "outputs": [
    {
     "name": "stdout",
     "output_type": "stream",
     "text": [
      "(4, 5)\n"
     ]
    }
   ],
   "source": [
    "#21 Write a code that taken two tuples as input and returns a new tuple containing elements that are common to both input tuples.\n",
    "\n",
    "t1 = (1,2,3,4,5)\n",
    "t2 = (4,5,6,7,8)\n",
    "\n",
    "tuple = tuple(set(t1) & set(t2))\n",
    "print(tuple)\n",
    "    "
   ]
  },
  {
   "cell_type": "code",
   "execution_count": 5,
   "id": "a401b7e3-2871-426d-8c39-d6564bd762ab",
   "metadata": {},
   "outputs": [
    {
     "name": "stdin",
     "output_type": "stream",
     "text": [
      "Enter the first set of integers, separated by commas:  1,2,3,4,5\n",
      "Enter the second set of integers, separated by commas:  4,5,6,7\n"
     ]
    },
    {
     "name": "stdout",
     "output_type": "stream",
     "text": [
      "The intersection of the two sets is: {4, 5}\n"
     ]
    }
   ],
   "source": [
    "#22. Create a code that prompts the user to enter two sets of integers seperated by commas. Then, print the intersection of these two sets.\n",
    "\n",
    "set1 = input(\"Enter the first set of integers, separated by commas: \")\n",
    "set2 = input(\"Enter the second set of integers, separated by commas: \")\n",
    "\n",
    "set1 = set([int(i) for i in set1.split(',')])\n",
    "set2 = set([int(i) for i in set2.split(',')])\n",
    "\n",
    "intersection = set1 & set2\n",
    "\n",
    "print(\"The intersection of the two sets is:\", intersection)"
   ]
  },
  {
   "cell_type": "code",
   "execution_count": 6,
   "id": "e01a979c-2781-48aa-8160-986b34f01f0e",
   "metadata": {},
   "outputs": [
    {
     "name": "stdout",
     "output_type": "stream",
     "text": [
      "New tuple:  (1, 2, 4, 5, 3, 6, 7)\n"
     ]
    }
   ],
   "source": [
    "#23. Write a code to concttenate two tuples. The fun%tion should take two tuples as input and return a new tuple containing elemen from both input tuples.\n",
    "\n",
    "t1 = (1,2,4,5)\n",
    "t2 = (3,6,7)\n",
    "\n",
    "result = t1+t2\n",
    "print(\"New tuple: \" , result)"
   ]
  },
  {
   "cell_type": "code",
   "execution_count": 8,
   "id": "11338a7e-dccf-46b8-afcb-54599818662b",
   "metadata": {},
   "outputs": [
    {
     "name": "stdin",
     "output_type": "stream",
     "text": [
      "Enter the first set of strings, separated by space:  apple banana orange \n",
      "Enter the second set of strings, separated by space:  apple orange gauava\n"
     ]
    },
    {
     "name": "stdout",
     "output_type": "stream",
     "text": [
      "new set  {'banana'}\n"
     ]
    }
   ],
   "source": [
    "#24. Develop a code that prompts the user to input two sets of strings. Then print the elements that are present in the first set but not in the second sets\n",
    "\n",
    "set1 = set(input(\"Enter the first set of strings, separated by space: \").split())\n",
    "set2 = set(input(\"Enter the second set of strings, separated by space: \").split())\n",
    "\n",
    "\n",
    "\n",
    "#difference = set1.difference(set2)\n",
    "difference = set1 - set2\n",
    "\n",
    "print( \"new set \" ,difference)"
   ]
  },
  {
   "cell_type": "code",
   "execution_count": 3,
   "id": "7bab7184-afdb-4c8f-821e-804021e7639e",
   "metadata": {},
   "outputs": [
    {
     "name": "stdin",
     "output_type": "stream",
     "text": [
      "Enter the first set of integers, separated by space:  1 2 3 4 5 6 7 8 9\n",
      "Enter the starting indices:  1\n",
      "Enter the ending indices:  5\n"
     ]
    },
    {
     "name": "stdout",
     "output_type": "stream",
     "text": [
      "('2', '3', '4', '5')\n"
     ]
    }
   ],
   "source": [
    "#25. Create a code that takes a tuple and two integers as input. The function should return a new tuple containing elements from the original tuple within the specified range of indices.\n",
    "\n",
    "t =tuple(input(\"Enter the first set of integers, separated by space: \").split())\n",
    "\n",
    "s= int(input(\"Enter the starting indices: \"))\n",
    "e= int(input(\"Enter the ending indices: \"))\n",
    "\n",
    "\n",
    "result= t[s:e]\n",
    "print(result)"
   ]
  },
  {
   "cell_type": "code",
   "execution_count": 4,
   "id": "5e92fd6d-93d4-4d89-a530-1f679b81f034",
   "metadata": {},
   "outputs": [
    {
     "name": "stdin",
     "output_type": "stream",
     "text": [
      "Enetr the Characters:  a b c d e\n",
      "Enetr the Characters:  d e f g\n"
     ]
    },
    {
     "name": "stdout",
     "output_type": "stream",
     "text": [
      "['a', 'b', 'c', 'd', 'e', 'f', 'g']\n"
     ]
    }
   ],
   "source": [
    "#26. Write a code that prompts the user to input two sets of char+cters. Then print the union of these two sets.\n",
    "\n",
    "set1 = set(input(\"Enetr the Characters: \").split())\n",
    "set2 = set(input(\"Enetr the Characters: \").split())\n",
    "\n",
    "union = set2 | set1\n",
    "print(sorted(union))"
   ]
  },
  {
   "cell_type": "code",
   "execution_count": 6,
   "id": "7fb9f331-f424-4745-b680-6b5c78c5694b",
   "metadata": {},
   "outputs": [
    {
     "name": "stdout",
     "output_type": "stream",
     "text": [
      "2\n",
      "66\n"
     ]
    }
   ],
   "source": [
    "#27  Develop a code that takes a tuple of integers as input. The function should return the maximum and minimum values from the tuple using tuple unpacking.\n",
    "\n",
    "tup = (66,4,3,6,52,2,45,6,3)\n",
    "min_val , max_val = min(tup) , max(tup)\n",
    "\n",
    "print(min_val)\n",
    "print(max_val)"
   ]
  },
  {
   "cell_type": "code",
   "execution_count": 7,
   "id": "79aebbf8-274c-43ef-a2e2-026ecad294db",
   "metadata": {},
   "outputs": [
    {
     "name": "stdout",
     "output_type": "stream",
     "text": [
      "The union of these two sets are:  {1, 2, 3, 4, 5, 6, 7, 8, 9, 10}\n",
      "The intersection of these two sets are:  {6}\n",
      "The difference of these two sets are:  {1, 2, 3, 4, 5}\n"
     ]
    }
   ],
   "source": [
    "#28. Create a code that defines two sets of integers. Then print the union intersection and difference of these two sets.\n",
    "\n",
    "s1 = {1,2,3,4,5,6}\n",
    "s2 = {6,7,8,9,10}\n",
    "\n",
    "union = s1 | s2\n",
    "intersection = s1 & s2\n",
    "difference = s1-s2\n",
    "\n",
    "print(\"The union of these two sets are: \" , union)\n",
    "print(\"The intersection of these two sets are: \" , intersection)\n",
    "print(\"The difference of these two sets are: \" , difference)"
   ]
  },
  {
   "cell_type": "code",
   "execution_count": 8,
   "id": "5ec3cda1-59f5-4ce3-bd8a-881e5c3db3be",
   "metadata": {},
   "outputs": [
    {
     "name": "stdout",
     "output_type": "stream",
     "text": [
      "4\n"
     ]
    }
   ],
   "source": [
    "#29. Write a code that takes a tuple and an element as input. The function should return the count of occurrences of the given element in the tuple.\n",
    "\n",
    "t = (1,2,3,1,4,5,1,6,8,7,1)\n",
    "ele = t.count(1)\n",
    "print(ele)"
   ]
  },
  {
   "cell_type": "code",
   "execution_count": 9,
   "id": "ed6289eb-41d6-419d-8c3d-f39488dc9cc4",
   "metadata": {},
   "outputs": [
    {
     "name": "stdin",
     "output_type": "stream",
     "text": [
      "Enter the strings:  Sonalika Gupta\n",
      "Enter the strings:  Shantanu Gupta\n"
     ]
    },
    {
     "name": "stdout",
     "output_type": "stream",
     "text": [
      "Symmetric difference:  {'Sonalika', 'Shantanu'}\n"
     ]
    }
   ],
   "source": [
    "#30. Develop a code thqt prompts the user to input two sets of strings. Then print the symmetric difference of these two sets.\n",
    "\n",
    "a = set(input(\"Enter the strings: \").split())\n",
    "b = set(input(\"Enter the strings: \").split())\n",
    "\n",
    "sd = a^b\n",
    "print(\"Symmetric difference: \" , sd)\n"
   ]
  },
  {
   "cell_type": "code",
   "execution_count": 10,
   "id": "7816906e-0f24-487e-95dc-9d05b257d14d",
   "metadata": {},
   "outputs": [
    {
     "name": "stdout",
     "output_type": "stream",
     "text": [
      "{'apple': 3, 'banana': 2, 'orange': 1}\n"
     ]
    }
   ],
   "source": [
    "#31. Write a code that takes a list of words as input and returns a dictionary where the keys are unique words and the values are the frequencies of those words in the input list.\n",
    "\n",
    "d = [\"apple\", \"banana\", \"apple\", \"orange\", \"banana\", \"apple\"]\n",
    "dic = {}\n",
    "\n",
    "for word in d:\n",
    "    if word in dic:\n",
    "        dic[word] +=1\n",
    "    else:\n",
    "        dic[word] = 1\n",
    "print(dic)"
   ]
  },
  {
   "cell_type": "code",
   "execution_count": 12,
   "id": "b26f7c2e-016e-4d00-aab7-3a790c44f571",
   "metadata": {},
   "outputs": [
    {
     "name": "stdout",
     "output_type": "stream",
     "text": [
      "{'Name': 'SonalikaShantanu', 'Age': 20, 'Add': 'Khunti'}\n"
     ]
    }
   ],
   "source": [
    "#32. Write a code that takes two dictionaries as input and merges them into a single dictionary. If there are common keys the values should be added together.\n",
    "\n",
    "d1 = {\"Name\" : \"Sonalika\" , \"Age\" : 20}\n",
    "d2 = {\"Name\" : \"Shantanu\" ,  \"Add\" : \"Khunti\"}\n",
    "\n",
    "m_dict = d1.copy()\n",
    "for key, value in d2.items():\n",
    "    if key in m_dict:\n",
    "        m_dict[key] += value  \n",
    "    else:\n",
    "        m_dict[key] = value\n",
    "print(m_dict)"
   ]
  },
  {
   "cell_type": "code",
   "execution_count": 13,
   "id": "2199887e-abf0-4012-af4b-a00ee4df9795",
   "metadata": {},
   "outputs": [
    {
     "name": "stdout",
     "output_type": "stream",
     "text": [
      "value\n",
      "None\n"
     ]
    }
   ],
   "source": [
    "#33.  Write a code to access a value in a nested dictionary. The function should take the dictionary and a list of keys as input and return the corresponding value. If any of the keys do not exist in the dictionary the function should return None.\n",
    "\n",
    "nested_dict = {\n",
    "    'a': {\n",
    "        'b': {\n",
    "            'c': 'value'\n",
    "        }\n",
    "    }\n",
    "}\n",
    "\n",
    "keys_list = ['a', 'b', 'c']\n",
    "\n",
    "current_level = nested_dict\n",
    "\n",
    "for key in keys_list:\n",
    "    if key in current_level:\n",
    "        current_level = current_level[key]  \n",
    "    else:\n",
    "        current_level = None  \n",
    "        break  \n",
    "\n",
    "print(current_level)  \n",
    "\n",
    "keys_list_invalid = ['a', 'b', 'd']\n",
    "current_level_invalid = nested_dict\n",
    "\n",
    "for key in keys_list_invalid:\n",
    "    if key in current_level_invalid:\n",
    "        current_level_invalid = current_level_invalid[key]\n",
    "    else:\n",
    "        current_level_invalid = None\n",
    "        break\n",
    "\n",
    "print(current_level_invalid)  \n"
   ]
  },
  {
   "cell_type": "code",
   "execution_count": 14,
   "id": "0573a5ce-b25d-46ec-8c59-ac0f6c6fee38",
   "metadata": {},
   "outputs": [
    {
     "name": "stdout",
     "output_type": "stream",
     "text": [
      "{'b': 5, 'a': 10, 'd': 15, 'c': 20}\n"
     ]
    }
   ],
   "source": [
    "#34. Write a code that takes a dictionary as input and returns a sorted version of it based on the values. You can choose whether to sort in asccnding or descending order.\n",
    "\n",
    "my_dict = {'a': 10, 'b': 5, 'c': 20, 'd': 15}\n",
    "\n",
    "sorted_dict_ascending = {k: v for k, v in sorted(my_dict.items(), key=lambda item: item[1])}\n",
    "\n",
    "print(sorted_dict_ascending)\n"
   ]
  },
  {
   "cell_type": "code",
   "execution_count": 15,
   "id": "524aa61d-125f-4d70-8a81-34c3a6710e87",
   "metadata": {},
   "outputs": [
    {
     "name": "stdout",
     "output_type": "stream",
     "text": [
      "{1: ['a', 'c'], 2: ['b'], 3: ['d']}\n"
     ]
    }
   ],
   "source": [
    "#35. Write a code that inverts a dictionary swapping keys and values. Ensure that the inverted dictionary correctlon handles cases where multiple keys have the same value be storing the keys as a list in the inverted dictionary.\n",
    "\n",
    "original_dict = {'a': 1, 'b': 2, 'c': 1, 'd': 3}\n",
    "\n",
    "inverted_dict = {}\n",
    "\n",
    "for key, value in original_dict.items():\n",
    "    if value in inverted_dict:\n",
    "        inverted_dict[value].append(key)\n",
    "    else:\n",
    "        inverted_dict[value] = [key]\n",
    "\n",
    "print(inverted_dict)\n"
   ]
  },
  {
   "cell_type": "code",
   "execution_count": null,
   "id": "8d060c9e-9663-4327-85ef-5f0d434bf399",
   "metadata": {},
   "outputs": [],
   "source": []
  },
  {
   "cell_type": "code",
   "execution_count": null,
   "id": "ccabfd23-7f62-4b74-a1ff-93ce6b28d620",
   "metadata": {},
   "outputs": [],
   "source": [
    "\n"
   ]
  }
 ],
 "metadata": {
  "kernelspec": {
   "display_name": "Python 3 (ipykernel)",
   "language": "python",
   "name": "python3"
  },
  "language_info": {
   "codemirror_mode": {
    "name": "ipython",
    "version": 3
   },
   "file_extension": ".py",
   "mimetype": "text/x-python",
   "name": "python",
   "nbconvert_exporter": "python",
   "pygments_lexer": "ipython3",
   "version": "3.10.8"
  }
 },
 "nbformat": 4,
 "nbformat_minor": 5
}
