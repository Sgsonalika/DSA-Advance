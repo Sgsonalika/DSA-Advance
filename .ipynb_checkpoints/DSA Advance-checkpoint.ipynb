{
 "cells": [
  {
   "cell_type": "code",
   "execution_count": null,
   "id": "383deac9-d3f1-44d2-882a-4be588dbadc1",
   "metadata": {},
   "outputs": [],
   "source": [
    "#1. Write a code to reverse a string.\n",
    "\n",
    "x = \"Ajay\"\n",
    "\n",
    "print(x[ : :-1])"
   ]
  },
  {
   "cell_type": "code",
   "execution_count": null,
   "id": "49e8b43b-f4a5-4ed4-9235-c782e8af23b0",
   "metadata": {},
   "outputs": [],
   "source": [
    "#2. Write a code to count the number of vowels in a string.\n",
    "\n",
    "s = \"Hello Worldo\"\n",
    "\n",
    "vowels= [\"a\",\"e\",\"i\",\"o\",\"u\",\"A\",\"E\",\"I\",\"O\",\"U\"]\n",
    "\n",
    "y = (s.count(vowels) for vowels in vowels)\n",
    "\n",
    "print(sum(y))"
   ]
  },
  {
   "cell_type": "code",
   "execution_count": null,
   "id": "eca33417-09f0-4d37-9e97-aebd8bf800f6",
   "metadata": {},
   "outputs": [],
   "source": [
    "#3. Write a code to check if a given string is a palindrome or not.\n",
    "\n",
    "a = \"mam\"\n",
    "\n",
    "p = a == (a[::-1])\n",
    "\n",
    "print(p)"
   ]
  },
  {
   "cell_type": "code",
   "execution_count": null,
   "id": "585feed8-2379-494e-a871-559f01dbdcb5",
   "metadata": {},
   "outputs": [],
   "source": [
    "#4. Write a code to check if two given strings are anagrams of each other.\n",
    "\n",
    "s=\"bad\"\n",
    "\n",
    "a=\"dad\"\n",
    "\n",
    "x = sorted(s)==sorted(a)\n",
    "\n",
    "print(x)"
   ]
  },
  {
   "cell_type": "code",
   "execution_count": null,
   "id": "9a49c54f-59d6-4cc0-af0b-5df1e4f71143",
   "metadata": {},
   "outputs": [],
   "source": [
    "#5. Write a code to find all occurrences of a given substring within another string. \n",
    "\n",
    "stri = \"Faith can move mountains. Faith can heal wounds. Faith can bring miracles. \"\n",
    "\n",
    "sub = \"Faith\"\n",
    "\n",
    "stri.count(sub)\n",
    "\n",
    "positions = [ i for i in range(len(stri)) if stri.startswith(sub, i)]\n",
    "\n",
    "print(\"Substring found at positions:\", positions)"
   ]
  },
  {
   "cell_type": "code",
   "execution_count": null,
   "id": "1cc64a55-75b9-46af-8075-3bb277a9cc1a",
   "metadata": {},
   "outputs": [],
   "source": [
    "#6. Write a code to perform basic string compression using the counts of repeated character.\n",
    "\n",
    "a = \"aaaaaaabbbbbbbbbcccccccsssssaaaaaa\"\n",
    "\n",
    "c = \"\"\n",
    "\n",
    "count = 0\n",
    "\n",
    "\n",
    "for i in range(0 , len(a)):\n",
    "\n",
    "    if a[i] == a[i-1] :\n",
    "    \n",
    "        count+=1\n",
    "    \n",
    "    else:\n",
    "        c+= a[i-1] + str(count)\n",
    "    \n",
    "        count = 1\n",
    "\n",
    "c+= a[i] + str(count)\n",
    "\n",
    "print(c)\n",
    "           "
   ]
  },
  {
   "cell_type": "code",
   "execution_count": null,
   "id": "5cdd57a4-20cb-4c8e-bbf6-f559f972bbb0",
   "metadata": {},
   "outputs": [],
   "source": [
    "#7.  Write a code to determine if a string has all unique characters.\n",
    "\n",
    "s = \" abcdd\"\n",
    "\n",
    "u = len(s) == len(set(s))\n",
    "\n",
    "if u:\n",
    "\n",
    "    print(\"The string has all unique characters.\")\n",
    "\n",
    "else:\n",
    "\n",
    "    print(\"The string does not have all unique characters.\")"
   ]
  },
  {
   "cell_type": "code",
   "execution_count": null,
   "id": "501a8274-ff00-4a55-a10e-3dc9de5a882d",
   "metadata": {},
   "outputs": [],
   "source": [
    "#8. Write a code to convert a given string to uppercase or lowercase\n",
    "\n",
    "s = \"HeLLo woRlD\"\n",
    "\n",
    "print(s.upper())\n",
    "\n",
    "print(s.lower())"
   ]
  },
  {
   "cell_type": "code",
   "execution_count": null,
   "id": "e4be32e4-6dbe-4673-807e-1ad9a952e9f7",
   "metadata": {},
   "outputs": [],
   "source": [
    "#9. Write a code to count the number of words in a string.\n",
    "\n",
    "x = \"God is everywhere\"\n",
    "\n",
    "w = 0 \n",
    "\n",
    "for i in range(len(x)):\n",
    "    \n",
    "    if x[i] == \" \" and x[i + 1 ] != \" \":\n",
    "    \n",
    "        w+=1\n",
    "\n",
    "if len(x)>0:\n",
    "\n",
    "    w+=1\n",
    "\n",
    "    print(\"Number of words in the string:\", w)    "
   ]
  },
  {
   "cell_type": "code",
   "execution_count": null,
   "id": "3d0a5afc-0e20-4bec-8c72-9dc255f41c41",
   "metadata": {},
   "outputs": [],
   "source": [
    "#10. Write a code to concatenate two strings without using the + operator.\n",
    "s1 = \"Sonalika\"\n",
    "\n",
    "s2 = \"Gupta\"\n",
    "\n",
    "print(' '.join([s1 , s2]))\n",
    "\n",
    "#f\" {s1}{s2} \"\n",
    "\n",
    "#print(\"%s %s\" % (s1 , s2))\n",
    "\n",
    "#print(\"{} {}\" .format (s1,s2))\n",
    "\n",
    "#print(s1,s2)\n"
   ]
  },
  {
   "cell_type": "code",
   "execution_count": null,
   "id": "b702daf7-8c33-4a79-bb51-2dc268538d83",
   "metadata": {},
   "outputs": [],
   "source": [
    "#11. Write a code to remove all occurrences of a specific element from a list.\n",
    "\n",
    "list = [1,1,2,3,4,1,5,2,1,1]\n",
    "\n",
    "ele = 1\n",
    "\n",
    "x=[i for i in list if i != ele ]\n",
    "\n",
    "print(\"The list is : \" ,x)\n",
    "\n",
    "#for i in list:\n",
    "\n",
    "#    list.remove(ele)\n",
    "\n",
    "#print(\"The list is : \" ,list)"
   ]
  },
  {
   "cell_type": "code",
   "execution_count": null,
   "id": "d7e8a9b8-ca7d-4ae1-ab5c-94a261bd065a",
   "metadata": {},
   "outputs": [],
   "source": [
    "#12.  Implement a code to find the second largest number in a given list of integer.\n",
    "\n",
    "list = [25,100,32,45]\n",
    "\n",
    "#x = sorted(list)[-2]\n",
    "\n",
    "#print(x)\n",
    "\n",
    "list.remove(max(list))\n",
    "\n",
    "print(max(list))"
   ]
  },
  {
   "cell_type": "code",
   "execution_count": null,
   "id": "23235750-ed20-4e89-b738-6703e4a24b7e",
   "metadata": {},
   "outputs": [],
   "source": [
    "#13. Create a code to count the occurrences of each element in a list and return a dictionary with elements as keys and their counts as values\n",
    "\n",
    "list = [1,2,3,1,2,3]\n",
    "\n",
    "count = {}\n",
    "\n",
    "for i in list:\n",
    "\n",
    "    count[i] = count.get(i, 0) + 1\n",
    "\n",
    "print(count)"
   ]
  },
  {
   "cell_type": "code",
   "execution_count": null,
   "id": "620e370d-57a2-4b62-9a0b-1edd27d36073",
   "metadata": {},
   "outputs": [],
   "source": [
    "#14. Write a code to reverse a list in-place without using in built-in reverse function.\n",
    "list1 = [2,6,3,4,5,2,]\n",
    "\n",
    "#list1[::-1]\n",
    "\n",
    "s =0 \n",
    "e = len(list1)-1\n",
    "\n",
    "while s < e:\n",
    "    list1[s] , list1[e] = list1[e] , list1[s]\n",
    "    s+=1\n",
    "    e-=1\n",
    "print(list1)\n",
    "\n"
   ]
  },
  {
   "cell_type": "code",
   "execution_count": null,
   "id": "c913e2b1-ceab-424a-95a3-4b89e43f4c57",
   "metadata": {},
   "outputs": [],
   "source": [
    "#15 Implement a code to find and remove duplicates from a list while preserving the original order of elements\n",
    "l = [1,2,3,1,3,6,1,2,15,4,5,15,5]\n",
    "\n",
    "u = []\n",
    "\n",
    "for i in l:\n",
    "    \n",
    "    if i in u:\n",
    "        continue\n",
    "    \n",
    "    else:\n",
    "        u.append(i)\n",
    "        \n",
    "\n",
    "print(u)"
   ]
  },
  {
   "cell_type": "code",
   "execution_count": null,
   "id": "683e6e32-67cf-4c11-8a3c-be432251fcfa",
   "metadata": {},
   "outputs": [],
   "source": [
    "#16 Create a code to check if a given list is sorted (either in ascending or descending order) or not.\n",
    "\n",
    "l = [5,4,3,6,1]\n",
    "\n",
    "x = sorted(l)\n",
    "\n",
    "y = sorted(l,reverse = True)\n",
    "\n",
    "if l == x or l == y:\n",
    "    print(\"sorted\")\n",
    "else:\n",
    "    print(\"not sorted\")\n"
   ]
  },
  {
   "cell_type": "code",
   "execution_count": null,
   "id": "4331008f-c935-41c5-9924-d4f071d3092a",
   "metadata": {},
   "outputs": [],
   "source": [
    "#17 Write a code to merge two sorted lists into a single sorted list.\n",
    "x = [50,2,3,5,48,4,4]\n",
    "\n",
    "y = [1,2,44,6,58]\n",
    "s = sorted(x+y)\n",
    "print(s)\n",
    "     \n"
   ]
  },
  {
   "cell_type": "code",
   "execution_count": null,
   "id": "5e04e7ce-0245-4e88-8848-552d3c75479c",
   "metadata": {},
   "outputs": [],
   "source": [
    "#18 Implement a code to find the intersection of two given list.\n",
    "\n",
    "l1 = [25,29,15,5,7]\n",
    "l2 = [22,15,12,25,18]\n",
    "\n",
    "\n",
    "x = list(set(l1) & set (l2))\n",
    "print(x)\n",
    "\n",
    "z = [i for i in l1 if i in l2]\n",
    "print(z)"
   ]
  }
 ],
 "metadata": {
  "kernelspec": {
   "display_name": "Python 3 (ipykernel)",
   "language": "python",
   "name": "python3"
  },
  "language_info": {
   "codemirror_mode": {
    "name": "ipython",
    "version": 3
   },
   "file_extension": ".py",
   "mimetype": "text/x-python",
   "name": "python",
   "nbconvert_exporter": "python",
   "pygments_lexer": "ipython3",
   "version": "3.10.8"
  }
 },
 "nbformat": 4,
 "nbformat_minor": 5
}
